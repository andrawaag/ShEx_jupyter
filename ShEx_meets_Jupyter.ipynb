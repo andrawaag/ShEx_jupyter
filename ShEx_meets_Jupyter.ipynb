{
 "cells": [
  {
   "cell_type": "markdown",
   "metadata": {},
   "source": [
    "# Initial steps\n",
    "Locally the we prepared jupyter by running the following command at the command line:\n",
    "[] pip3 install ipython notebook\n",
    "[] which ipython3\n",
    "[] ipython3 kernel install\n",
    "[] npm install -g ijavascript\n",
    "[] npm install -g shex\n",
    "[] ijs\n",
    "[] jupyter notebook"
   ]
  },
  {
   "cell_type": "code",
   "execution_count": 39,
   "metadata": {},
   "outputs": [
    {
     "ename": "TypeError",
     "evalue": "Identifier 'shex' has already been declared",
     "output_type": "error",
     "traceback": [
      "TypeError: Identifier 'shex' has already been declared",
      "    at evalmachine.<anonymous>:1:1",
      "    at ContextifyScript.Script.runInThisContext (vm.js:25:33)",
      "    at Object.exports.runInThisContext (vm.js:77:17)",
      "    at run ([eval]:617:19)",
      "    at onRunRequest ([eval]:388:22)",
      "    at onMessage ([eval]:356:17)",
      "    at emitTwo (events.js:106:13)",
      "    at process.emit (events.js:191:7)",
      "    at process.nextTick (internal/child_process.js:744:12)",
      "    at _combinedTickCallback (internal/process/next_tick.js:67:7)",
      "    at process._tickCallback (internal/process/next_tick.js:98:9)"
     ]
    }
   ],
   "source": [
    "let shex = require('shex')"
   ]
  },
  {
   "cell_type": "code",
   "execution_count": 37,
   "metadata": {},
   "outputs": [
    {
     "data": {
      "text/plain": [
       "Promise { _40: 0, _65: 0, _55: null, _72: null }"
      ]
     },
     "execution_count": 37,
     "metadata": {},
     "output_type": "execute_result"
    },
    {
     "name": "stdout",
     "output_type": "stream",
     "text": [
      "{ type: 'Failure',\n",
      "  node: 'https://www.wikidata.org/wiki/Special:EntityData/Q28869882',\n",
      "  shape: 'https://github.com/shexSpec/schemas/raw/master/Wikidata/pathways/Wikipathways/wikidata-wp_pathway',\n",
      "  errors: \n",
      "   [ { type: 'MissingProperty',\n",
      "       property: 'http://www.w3.org/2000/01/rdf-schema#label',\n",
      "       valueExpr: [Object] },\n",
      "     { type: 'MissingProperty',\n",
      "       property: 'http://schema.org/description',\n",
      "       valueExpr: [Object] },\n",
      "     { type: 'MissingProperty',\n",
      "       property: 'http://www.wikidata.org/prop/P31',\n",
      "       valueExpr: [Object] },\n",
      "     { type: 'MissingProperty',\n",
      "       property: 'http://www.wikidata.org/prop/P2410',\n",
      "       valueExpr: [Object] } ] }\n"
     ]
    }
   ],
   "source": [
    "shex.Loader.load(\n",
    "    [\"https://github.com/shexSpec/schemas/raw/master/Wikidata/pathways/Wikipathways/wikipathways.shex\"],\n",
    "    [],\n",
    "    [\"https://www.wikidata.org/wiki/Special:EntityData/Q28869882.ttl\"],\n",
    "    []\n",
    ").then(loaded => {\n",
    "    var v = shex.Validator.construct(loaded.schema);\n",
    "    console.log(\n",
    "//        loaded.schema,\n",
    "//        loaded.data.find(),\n",
    "        v.validate(loaded.data, 'https://www.wikidata.org/wiki/Special:EntityData/Q28869882')\n",
    "    );\n",
    "}).catch(e => {\n",
    "    console.error(\"error:\" + e)\n",
    "})"
   ]
  },
  {
   "cell_type": "code",
   "execution_count": 38,
   "metadata": {},
   "outputs": [
    {
     "data": {
      "text/plain": [
       "undefined"
      ]
     },
     "execution_count": 38,
     "metadata": {},
     "output_type": "execute_result"
    }
   ],
   "source": [
    "shex.Validator.con"
   ]
  }
 ],
 "metadata": {
  "kernelspec": {
   "display_name": "Javascript (Node.js)",
   "language": "javascript",
   "name": "javascript"
  },
  "language_info": {
   "file_extension": ".js",
   "mimetype": "application/javascript",
   "name": "javascript",
   "version": "6.10.0"
  }
 },
 "nbformat": 4,
 "nbformat_minor": 2
}
